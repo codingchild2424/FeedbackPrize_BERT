{
 "cells": [
  {
   "cell_type": "code",
   "execution_count": null,
   "metadata": {},
   "outputs": [],
   "source": [
    "import pandas as pd\n",
    "import numpy as np\n",
    "\n",
    "data_path = '../datasets/train.csv'\n",
    "\n",
    "pd_data = pd.read_csv(data_path)\n",
    "\n",
    "pd_data.head()"
   ]
  },
  {
   "cell_type": "code",
   "execution_count": null,
   "metadata": {},
   "outputs": [],
   "source": [
    "pd_data_new = pd_data[['discourse_type', 'discourse_text']]\n",
    "\n",
    "pd_data_new.head(20)"
   ]
  },
  {
   "cell_type": "code",
   "execution_count": null,
   "metadata": {},
   "outputs": [],
   "source": [
    "#\\n 모두 전처리해서 삭제하기\n",
    "import re\n",
    "\n",
    "#전체 글\n",
    "discourse_text_data = pd_data_new['discourse_text'].values\n",
    "\n",
    "discourse_list = []\n",
    "\n",
    "#글의 각 요소를 가져와서 전처리하기\n",
    "for i in range( len(discourse_text_data) ):\n",
    "\n",
    "    erase_n = re.sub(r'\\n', '', discourse_text_data[i])\n",
    "    erase_x = re.sub(r'\\xa0', '', erase_n)\n",
    "\n",
    "    discourse_list.append(\n",
    "        erase_x\n",
    "    )\n",
    "\n",
    "discourse_list\n",
    "\n",
    "\n",
    "#최종적으로 원래 데이터와 합쳐서 데이터 프레임 다시 만들기\n"
   ]
  },
  {
   "cell_type": "code",
   "execution_count": null,
   "metadata": {},
   "outputs": [],
   "source": [
    "discourse_list[6]\n",
    "#\\n 삭제 된 것 확인함"
   ]
  },
  {
   "cell_type": "code",
   "execution_count": null,
   "metadata": {},
   "outputs": [],
   "source": [
    "discourse_list[len(discourse_text_data) - 1]"
   ]
  },
  {
   "cell_type": "code",
   "execution_count": null,
   "metadata": {},
   "outputs": [],
   "source": [
    "#여기\n",
    "\n",
    "discourse_df = pd.DataFrame(discourse_list)\n",
    "\n",
    "discourse_df"
   ]
  },
  {
   "cell_type": "code",
   "execution_count": null,
   "metadata": {},
   "outputs": [],
   "source": [
    "result = pd.concat([pd_data_new, discourse_df], axis = 1)"
   ]
  },
  {
   "cell_type": "code",
   "execution_count": null,
   "metadata": {},
   "outputs": [],
   "source": [
    "result.head()"
   ]
  },
  {
   "cell_type": "code",
   "execution_count": null,
   "metadata": {},
   "outputs": [],
   "source": [
    "pd_result = result[['discourse_type', 0]]\n",
    "\n",
    "pd_result.head()"
   ]
  },
  {
   "cell_type": "code",
   "execution_count": null,
   "metadata": {},
   "outputs": [],
   "source": [
    "tsv_path = '../datasets/discourse_data.tsv'\n",
    "\n",
    "pd_result.to_csv(tsv_path, header=None, index=False, sep='\\t', encoding='utf-8')"
   ]
  }
 ],
 "metadata": {
  "language_info": {
   "name": "python"
  },
  "orig_nbformat": 4
 },
 "nbformat": 4,
 "nbformat_minor": 2
}
